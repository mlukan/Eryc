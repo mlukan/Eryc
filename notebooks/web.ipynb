{
 "cells": [
  {
   "cell_type": "code",
   "execution_count": 1,
   "metadata": {},
   "outputs": [
    {
     "data": {
      "text/plain": [
       "'../web/static/css/new_style.css'"
      ]
     },
     "execution_count": 1,
     "metadata": {},
     "output_type": "execute_result"
    }
   ],
   "source": [
    "from pathlib import Path\n",
    "\n",
    "# Load the original CSS file\n",
    "css_path = Path(\"../web/static/css/style.css\")\n",
    "css_content = css_path.read_text()\n",
    "\n",
    "# Define new color scheme for blood donation website\n",
    "color_map = {\n",
    "    \"#060dcfc7\": \"#bb0a1e\",     # Replace deep blueish header backgrounds with Blood Red\n",
    "    \"#e3e7ee\": \"#fff5f5\",       # Replace light gray backgrounds with soft white/pinkish\n",
    "    \"#ffffff\": \"#fff\",         # Keep pure white\n",
    "    \"#9a82842e\": \"#8b000022\",  # Subtle shadowing replaced with dark red alpha\n",
    "    \"#dbdade\": \"#dc143c33\",    # Box shadow gray to crimson alpha\n",
    "    \"#060dcf\": \"#bb0a1e\",      # Any other reference to the blue to blood red\n",
    "    \"#060DCF\": \"#bb0a1e\",\n",
    "    \"#060dcf\": \"#bb0a1e\",\n",
    "    \"#f2f2f2\": \"#800000\",      # Border to maroon\n",
    "    \"#ee6e73\": \"#dc143c\",      # Red for quote border left\n",
    "    \"#9acd32\": \"#bb0a1e\",      # LimeGreen replaced with Blood Red\n",
    "    \"#f8ce0b\": \"#bb0a1e\",      # Yellow stars replaced with Blood Red\n",
    "    \"#b5b5b5\": \"#800000\",      # Neutral gray background to maroon\n",
    "    \"#9c9393ba\": \"#800000aa\",  # Shadow to maroon tone\n",
    "    \"#9a82847a\": \"#8b000077\",  # Shadow color to dark red\n",
    "}\n",
    "\n",
    "# Apply the color replacements\n",
    "for old_color, new_color in color_map.items():\n",
    "    css_content = css_content.replace(old_color, new_color)\n",
    "\n",
    "# Save the updated CSS content\n",
    "updated_css_path = \"../web/static/css/new_style.css\"\n",
    "Path(updated_css_path).write_text(css_content)\n",
    "\n",
    "updated_css_path\n"
   ]
  },
  {
   "cell_type": "code",
   "execution_count": 2,
   "metadata": {},
   "outputs": [
    {
     "name": "stdout",
     "output_type": "stream",
     "text": [
      "Saved HTML to prep_faq_chart.html\n"
     ]
    }
   ],
   "source": [
    "from pyflowchart import *\n",
    "\n",
    "start_prep_faq = StartNode(\"Prepare FAQ DB\")\n",
    "load_base_faq_db = InputOutputNode(InputOutputNode.OUTPUT,\"Save base question/answer pairs to the DB\")\n",
    "generate_questions = OperationNode(\"Generate additional questions\")\n",
    "concatenate_q_a = OperationNode(\"Concatenate generated questions + answers\")\n",
    "embed_qa = OperationNode(\"Embed Q&A using text-embedding-3-large model\")\n",
    "save_embeddings = InputOutputNode(InputOutputNode.OUTPUT,\"Save embeddings as Numpy blob in the DB\")\n",
    "end_prep_faq = EndNode(\"Prepare FAQ DB\")\n",
    "# connect graph\n",
    "start_prep_faq.connect(load_base_faq_db)\n",
    "load_base_faq_db.connect(generate_questions)\n",
    "generate_questions.connect(concatenate_q_a)\n",
    "concatenate_q_a.connect(embed_qa)\n",
    "embed_qa.connect(save_embeddings)\n",
    "save_embeddings.connect(end_prep_faq)\n",
    "prep_faq_chart = Flowchart(start_prep_faq)\n",
    "output_html('prep_faq_chart.html', 'Prepare FAQ DB', prep_faq_chart.flowchart())\n"
   ]
  },
  {
   "cell_type": "code",
   "execution_count": null,
   "metadata": {},
   "outputs": [
    {
     "name": "stdout",
     "output_type": "stream",
     "text": [
      "Saved HTML to search_flow.html\n"
     ]
    }
   ],
   "source": [
    "# Search flow graph\n",
    "from pyflowchart import *\n",
    "\n",
    "message = InputOutputNode(InputOutputNode.INPUT, \"user: E.g. How often can I donate blood?\")\n",
    "start_search_flow = StartNode(\"search flow\")\n",
    "embed_message = OperationNode(\"Embed user message\")\n",
    "search_faiss = OperationNode(\"Search in FAISS in-memory vector store\")\n",
    "search_results = InputOutputNode(InputOutputNode.OUTPUT, \"Pointers to 3 most relevant FAQ responses\")\n",
    "evaluate_search_results = OperationNode(\"Select the most relevant response or generate new one\")\n",
    "return_search_response = InputOutputNode(InputOutputNode.OUTPUT, \"Selected or generated response\")\n",
    "#action_search_faiss = NodesGroup(embed_message,[search_faiss,search_results, evaluate_search_results, return_search_response])\n",
    "ask_for_feedback = ConditionNode(\"Was the answer helpful? Yes or No\")\n",
    "sorry_could_not_help = InputOutputNode(InputOutputNode.OUTPUT, \"bot: Thank you for feedback, I am sorry I could not help you\")\n",
    "thank_for_feedback = InputOutputNode(InputOutputNode.OUTPUT,\"bot: I am glad for helping you\")\n",
    "save_feedback = OperationNode(\"Save feedback to DB\")\n",
    "how_can_i_help = InputOutputNode(InputOutputNode.OUTPUT,\"bot: How can I further help you?\")\n",
    "end_search_flow = EndNode(\"search flow\")\n",
    "# connect graph\n",
    "message.connect(start_search_flow)\n",
    "start_search_flow.connect(embed_message)\n",
    "embed_message.connect(search_faiss)\n",
    "search_faiss.connect(search_results)\n",
    "search_results.connect(evaluate_search_results)\n",
    "evaluate_search_results.connect(return_search_response)\n",
    "return_search_response.connect(ask_for_feedback)\n",
    "ask_for_feedback.connect_yes(thank_for_feedback, direction=\"right\")\n",
    "thank_for_feedback.connect(save_feedback)\n",
    "ask_for_feedback.connect_no(sorry_could_not_help,direction=\"left\")\n",
    "sorry_could_not_help.connect(save_feedback)\n",
    "save_feedback.connect(how_can_i_help)\n",
    "how_can_i_help.connect(end_search_flow)\n",
    "\n",
    "search_flow_chart = Flowchart(message)\n",
    "output_html('search_flow.html', 'Search FAQ flow', search_flow_chart.flowchart())\n"
   ]
  },
  {
   "cell_type": "code",
   "execution_count": 18,
   "metadata": {},
   "outputs": [
    {
     "name": "stdout",
     "output_type": "stream",
     "text": [
      "Saved HTML to book_donation_flow.html\n"
     ]
    }
   ],
   "source": [
    "# Book donation flow chart\n",
    "message = InputOutputNode(InputOutputNode.INPUT,\"user: I want to book a blood donation\")\n",
    "start_booking_flow = StartNode(\"Book donation flow\")\n",
    "ask_auth_continue = InputOutputNode(InputOutputNode.OUTPUT,\"bot: I have to authenticate you before we can proceed. Will you continue?\")\n",
    "condition_auth_continue = ConditionNode(\"Continue:\")\n",
    "sub_authenticate_flow = SubroutineNode(\"flow_authenticate_user\")\n",
    "condition_authenticated = ConditionNode(\"Authenticated\")\n",
    "how_can_i_help_auth = InputOutputNode(InputOutputNode.OUTPUT,\"bot: How can I further help you?\")\n",
    "access_code_invalid = InputOutputNode(InputOutputNode.OUTPUT, \"bot: The access code is not valid.\")\n",
    "ask_select_donation_centre = InputOutputNode(InputOutputNode.OUTPUT, \"bot: Please select your preferred donation centre\")\n",
    "donation_centre_selected = InputOutputNode(InputOutputNode.INPUT, \"user: <donation centre>\")\n",
    "ask_select_date = InputOutputNode(InputOutputNode.OUTPUT,\"bot: Please select your preferred date\")\n",
    "selected_date = InputOutputNode(InputOutputNode.INPUT, \"user: <selected date>\")\n",
    "ask_select_time_slot = InputOutputNode(InputOutputNode.OUTPUT, \"Please select your preferred time slot\")\n",
    "selected_time_slot = InputOutputNode(InputOutputNode.INPUT, \"user: <time slot>\")\n",
    "booking_confirmed = InputOutputNode(InputOutputNode.OUTPUT,\"bot: Your booking has been confirmed\")\n",
    "send_booking_confirmation = OperationNode(\"Booking confirmation mail with ics sent to user\")\n",
    "ask_fill_questionnaire = InputOutputNode(InputOutputNode.OUTPUT,\"Do you want to fill out the pre-donation questionnaire?\")\n",
    "condition_fill_questionnaire = ConditionNode(\"Fill questionnaire:\")\n",
    "fill_questionnaire_yes = SubroutineNode(\"Fill questionaire flow\")\n",
    "booking_flow_end = EndNode(\"Book donation flow\")\n",
    "how_can_i_help_auth = InputOutputNode(InputOutputNode.OUTPUT,\"bot: How can I further help you?\")\n",
    "how_can_i_help_access_code = InputOutputNode(InputOutputNode.OUTPUT,\"bot: How can I further help you?\")\n",
    "how_can_i_help_questionnaire = InputOutputNode(InputOutputNode.OUTPUT,\"bot: How can I further help you?\")\n",
    "\n",
    "message.connect(start_booking_flow)\n",
    "start_booking_flow.connect(ask_auth_continue)\n",
    "ask_auth_continue.connect(condition_auth_continue)\n",
    "condition_auth_continue.connect_yes(sub_authenticate_flow)\n",
    "sub_authenticate_flow.connect(condition_authenticated)\n",
    "condition_authenticated.connect_yes(ask_select_donation_centre)\n",
    "condition_authenticated.connect_no(how_can_i_help)\n",
    "condition_auth_continue.connect_no(how_can_i_help_auth)\n",
    "ask_select_donation_centre.connect(donation_centre_selected)\n",
    "donation_centre_selected.connect(ask_select_date)\n",
    "ask_select_date.connect(selected_date)\n",
    "selected_date.connect(ask_select_time_slot)\n",
    "ask_select_time_slot.connect(selected_time_slot)\n",
    "selected_time_slot.connect(booking_confirmed)\n",
    "booking_confirmed.connect(send_booking_confirmation)\n",
    "send_booking_confirmation.connect(ask_fill_questionnaire)\n",
    "ask_fill_questionnaire.connect(condition_fill_questionnaire)\n",
    "condition_fill_questionnaire.connect_yes(fill_questionnaire_yes)\n",
    "condition_fill_questionnaire.connect_no(how_can_i_help_questionnaire)\n",
    "how_can_i_help.connect(booking_flow_end)\n",
    "how_can_i_help_auth.connect(booking_flow_end)\n",
    "how_can_i_help_access_code.connect(booking_flow_end)\n",
    "how_can_i_help_questionnaire.connect(booking_flow_end)\n",
    "\n",
    "fill_questionnaire_yes.connect(booking_flow_end)\n",
    "\n",
    "book_donation_flow_chart = Flowchart(message)\n",
    "output_html('book_donation_flow.html', 'Book donation  flow', book_donation_flow_chart.flowchart())"
   ]
  },
  {
   "cell_type": "code",
   "execution_count": 15,
   "metadata": {},
   "outputs": [
    {
     "name": "stdout",
     "output_type": "stream",
     "text": [
      "Saved HTML to flow_authenticate_user.html\n"
     ]
    }
   ],
   "source": [
    "## Authenticate user flow chart\n",
    "# Nodes\n",
    "start_flow_authenticate_user = StartNode(\"flow_authenticate_user\")\n",
    "ask_input_email = InputOutputNode(InputOutputNode.OUTPUT,\"bot: Please type in your e-mail\")\n",
    "input_email = InputOutputNode(InputOutputNode.INPUT,\"user: <email>\")\n",
    "sub_authenticate_flow = SubroutineNode(\"flow_authenticate_user\")\n",
    "validate_email = OperationNode(\"Check e-mail in DB\")\n",
    "condition_valid_email = ConditionNode(\"E-mail valid\")\n",
    "email_invalid = InputOutputNode(InputOutputNode.OUTPUT,\"bot: Your e-mail was not found in the DB, do you want to register?\")\n",
    "sub_register_flow = SubroutineNode(\"flow_register_user\")\n",
    "ask_input_access_code = InputOutputNode(InputOutputNode.OUTPUT,\"bot: I've sent an access code to your e-mail address. Please type in the access code.\")\n",
    "input_access_code = InputOutputNode(InputOutputNode.INPUT, \"user: <access code>\")\n",
    "validate_access_code = OperationNode(\"Validate access code in the DB\")\n",
    "condition_access_code = ConditionNode(\"Access code valid\")\n",
    "end_auth_user_flow = EndNode(\"flow_authenticate_user\")\n",
    "# Edges\n",
    "start_flow_authenticate_user.connect(ask_input_email)\n",
    "ask_input_email.connect(input_email)\n",
    "input_email.connect(validate_email)\n",
    "validate_email.connect(condition_valid_email)\n",
    "access_code_invalid.connect(how_can_i_help_access_code)\n",
    "condition_valid_email.connect_yes(ask_input_access_code)\n",
    "condition_valid_email.connect_no(email_invalid)\n",
    "email_invalid.connect(sub_register_flow)\n",
    "sub_register_flow.connect(end_auth_user_flow)\n",
    "ask_input_access_code.connect(input_access_code)\n",
    "input_access_code.connect(validate_access_code)\n",
    "validate_access_code.connect(condition_access_code)\n",
    "condition_access_code.connect_no(access_code_invalid)\n",
    "condition_access_code.connect_yes(end_auth_user_flow)\n",
    "access_code_invalid.connect(end_auth_user_flow)\n",
    "\n",
    "flow_authenticate_user_chart = Flowchart(start_flow_authenticate_user)\n",
    "output_html('flow_authenticate_user.html', 'Authenticate user   flow', flow_authenticate_user_chart.flowchart())"
   ]
  }
 ],
 "metadata": {
  "kernelspec": {
   "display_name": ".venv",
   "language": "python",
   "name": "python3"
  },
  "language_info": {
   "codemirror_mode": {
    "name": "ipython",
    "version": 3
   },
   "file_extension": ".py",
   "mimetype": "text/x-python",
   "name": "python",
   "nbconvert_exporter": "python",
   "pygments_lexer": "ipython3",
   "version": "3.10.16"
  }
 },
 "nbformat": 4,
 "nbformat_minor": 2
}
