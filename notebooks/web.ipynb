{
 "cells": [
  {
   "cell_type": "code",
   "execution_count": 1,
   "metadata": {},
   "outputs": [
    {
     "data": {
      "text/plain": [
       "'../web/static/css/new_style.css'"
      ]
     },
     "execution_count": 1,
     "metadata": {},
     "output_type": "execute_result"
    }
   ],
   "source": [
    "from pathlib import Path\n",
    "\n",
    "# Load the original CSS file\n",
    "css_path = Path(\"../web/static/css/style.css\")\n",
    "css_content = css_path.read_text()\n",
    "\n",
    "# Define new color scheme for blood donation website\n",
    "color_map = {\n",
    "    \"#060dcfc7\": \"#bb0a1e\",     # Replace deep blueish header backgrounds with Blood Red\n",
    "    \"#e3e7ee\": \"#fff5f5\",       # Replace light gray backgrounds with soft white/pinkish\n",
    "    \"#ffffff\": \"#fff\",         # Keep pure white\n",
    "    \"#9a82842e\": \"#8b000022\",  # Subtle shadowing replaced with dark red alpha\n",
    "    \"#dbdade\": \"#dc143c33\",    # Box shadow gray to crimson alpha\n",
    "    \"#060dcf\": \"#bb0a1e\",      # Any other reference to the blue to blood red\n",
    "    \"#060DCF\": \"#bb0a1e\",\n",
    "    \"#060dcf\": \"#bb0a1e\",\n",
    "    \"#f2f2f2\": \"#800000\",      # Border to maroon\n",
    "    \"#ee6e73\": \"#dc143c\",      # Red for quote border left\n",
    "    \"#9acd32\": \"#bb0a1e\",      # LimeGreen replaced with Blood Red\n",
    "    \"#f8ce0b\": \"#bb0a1e\",      # Yellow stars replaced with Blood Red\n",
    "    \"#b5b5b5\": \"#800000\",      # Neutral gray background to maroon\n",
    "    \"#9c9393ba\": \"#800000aa\",  # Shadow to maroon tone\n",
    "    \"#9a82847a\": \"#8b000077\",  # Shadow color to dark red\n",
    "}\n",
    "\n",
    "# Apply the color replacements\n",
    "for old_color, new_color in color_map.items():\n",
    "    css_content = css_content.replace(old_color, new_color)\n",
    "\n",
    "# Save the updated CSS content\n",
    "updated_css_path = \"../web/static/css/new_style.css\"\n",
    "Path(updated_css_path).write_text(css_content)\n",
    "\n",
    "updated_css_path\n"
   ]
  }
 ],
 "metadata": {
  "kernelspec": {
   "display_name": ".venv",
   "language": "python",
   "name": "python3"
  },
  "language_info": {
   "codemirror_mode": {
    "name": "ipython",
    "version": 3
   },
   "file_extension": ".py",
   "mimetype": "text/x-python",
   "name": "python",
   "nbconvert_exporter": "python",
   "pygments_lexer": "ipython3",
   "version": "3.10.16"
  }
 },
 "nbformat": 4,
 "nbformat_minor": 2
}
