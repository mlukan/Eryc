{
 "cells": [
  {
   "cell_type": "code",
   "execution_count": 22,
   "metadata": {},
   "outputs": [],
   "source": [
    "\n",
    "\n",
    "import sqlite3\n",
    "# Connect to SQLite database\n",
    "conn = sqlite3.connect(\"../data/calendar.db\")\n",
    "cursor = conn.cursor()\n",
    "# Create bookings table\n",
    "cursor.execute(\"\"\"\n",
    "INSERT INTO slots (location, slots_total, slots_remaining, timestamp) VALUES (?, ?, ?, ?)\"\"\",\n",
    " (\"Martin\", 3,2, datetime_to_unix_minutes(\"11.05.2025 11:15\")))\n",
    "cursor.execute(\"\"\"\n",
    "INSERT INTO slots (location, slots_total, slots_remaining, timestamp) VALUES (?, ?, ?, ?)\"\"\",\n",
    " (\"Martin\", 3,3, datetime_to_unix_minutes(\"11.05.2025 11:30\")))\n",
    "cursor.execute(\"\"\"\n",
    "INSERT INTO slots (location, slots_total, slots_remaining, timestamp) VALUES (?, ?, ?, ?)\"\"\",\n",
    " (\"Martin\", 3,3, datetime_to_unix_minutes(\"11.05.2025 11:45\")))\n",
    "conn.commit()\n",
    "conn.close()"
   ]
  },
  {
   "cell_type": "code",
   "execution_count": 8,
   "metadata": {},
   "outputs": [],
   "source": [
    "import sqlite3\n",
    "# Connect to SQLite database\n",
    "conn = sqlite3.connect(\"../data/calendar.db\")\n",
    "cursor = conn.cursor()\n",
    "\n",
    "# Create bookings table\n",
    "\n",
    "cursor.execute(\"INSERT INTO booking (location, email, timestamp, donation_type, success, status) VALUES (?, ?, ?, ?, ?, ?)\", \n",
    "               (\"Martin\", \"mlukan@gmail.com\", datetime_to_unix_minutes(\"10.01.2025 09:30\"), \"whole_blood\", True, \"donated\"))\n",
    "\n",
    "\n",
    "conn.commit()\n",
    "conn.close()"
   ]
  },
  {
   "cell_type": "code",
   "execution_count": 10,
   "metadata": {},
   "outputs": [
    {
     "name": "stdout",
     "output_type": "stream",
     "text": [
      "(28941630, 'Martin', 1)\n"
     ]
    }
   ],
   "source": [
    "conn = sqlite3.connect(\"../data/calendar.db\")\n",
    "cursor = conn.cursor()\n",
    "query = '''\n",
    "SELECT timestamp, location, success\n",
    "FROM booking\n",
    "WHERE email = ? AND success = 1\n",
    "ORDER BY timestamp DESC\n",
    "LIMIT 1\n",
    "'''\n",
    "\n",
    "cursor.execute(query, (\"mlukan@gmail.com\",))\n",
    "last_booking = cursor.fetchone()\n",
    "print(last_booking)"
   ]
  }
 ],
 "metadata": {
  "kernelspec": {
   "display_name": ".venv",
   "language": "python",
   "name": "python3"
  },
  "language_info": {
   "codemirror_mode": {
    "name": "ipython",
    "version": 3
   },
   "file_extension": ".py",
   "mimetype": "text/x-python",
   "name": "python",
   "nbconvert_exporter": "python",
   "pygments_lexer": "ipython3",
   "version": "3.10.16"
  }
 },
 "nbformat": 4,
 "nbformat_minor": 2
}
