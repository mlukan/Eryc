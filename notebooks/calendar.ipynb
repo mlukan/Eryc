{
 "cells": [
  {
   "cell_type": "code",
   "execution_count": null,
   "metadata": {},
   "outputs": [],
   "source": []
  },
  {
   "cell_type": "code",
   "execution_count": 17,
   "metadata": {},
   "outputs": [
    {
     "name": "stdout",
     "output_type": "stream",
     "text": [
      "29032710\n"
     ]
    },
    {
     "data": {
      "text/plain": [
       "'17.03. 07:00'"
      ]
     },
     "execution_count": 17,
     "metadata": {},
     "output_type": "execute_result"
    }
   ],
   "source": [
    "from datetime import datetime\n",
    "\n",
    "def datetime_to_unix_minutes(datetime_str):\n",
    "    \"\"\"Convert date and time in DD.MM.YYYY HH:MM format to Unix timestamp in minutes.\"\"\"\n",
    "    try:\n",
    "        # Parse date and time string\n",
    "        date_obj = datetime.strptime(datetime_str, \"%d.%m.%Y %H:%M\")\n",
    "        \n",
    "        # Convert to Unix timestamp (in seconds), then convert to minutes\n",
    "        unix_minutes = int(date_obj.timestamp() // 60)\n",
    "        \n",
    "        return unix_minutes\n",
    "    except ValueError:\n",
    "        return \"Invalid format! Use DD.MM.YYYY HH:MM\"\n",
    "\n",
    "# Example usage\n",
    "datetime_str = \"14.03.2025 15:30\"\n",
    "print(datetime_to_unix_minutes(datetime_str))\n",
    "def format_timestamp(unix_minutes):\n",
    "    \"\"\"\n",
    "    Converts a Unix timestamp in minutes to a formatted time string.\n",
    "    \n",
    "    - If the timestamp is today → returns \"HH:MM\"\n",
    "    - If the timestamp is another day → returns \"DD.MM. HH:MM\"\n",
    "\n",
    "    :param unix_minutes: Unix timestamp in minutes\n",
    "    :return: Formatted time string\n",
    "    \"\"\"\n",
    "    dt = datetime.fromtimestamp(unix_minutes * 60)  # Convert to datetime\n",
    "    today = datetime.now().date()\n",
    "\n",
    "    if dt.date() == today:\n",
    "        return dt.strftime(\"%H:%M\")  # Format as \"HH:MM\"\n",
    "    else:\n",
    "        return dt.strftime(\"%d.%m. %H:%M\")  # Format as \"DD.MM. HH:MM\"\n",
    "format_timestamp(29036520)\n"
   ]
  },
  {
   "cell_type": "code",
   "execution_count": 22,
   "metadata": {},
   "outputs": [],
   "source": [
    "\n",
    "\n",
    "import sqlite3\n",
    "# Connect to SQLite database\n",
    "conn = sqlite3.connect(\"../data/calendar.db\")\n",
    "cursor = conn.cursor()\n",
    "# Create bookings table\n",
    "cursor.execute(\"\"\"\n",
    "INSERT INTO slots (location, slots_total, slots_remaining, timestamp) VALUES (?, ?, ?, ?)\"\"\",\n",
    " (\"Martin\", 3,2, datetime_to_unix_minutes(\"11.05.2025 11:15\")))\n",
    "cursor.execute(\"\"\"\n",
    "INSERT INTO slots (location, slots_total, slots_remaining, timestamp) VALUES (?, ?, ?, ?)\"\"\",\n",
    " (\"Martin\", 3,3, datetime_to_unix_minutes(\"11.05.2025 11:30\")))\n",
    "cursor.execute(\"\"\"\n",
    "INSERT INTO slots (location, slots_total, slots_remaining, timestamp) VALUES (?, ?, ?, ?)\"\"\",\n",
    " (\"Martin\", 3,3, datetime_to_unix_minutes(\"11.05.2025 11:45\")))\n",
    "conn.commit()\n",
    "conn.close()"
   ]
  },
  {
   "cell_type": "code",
   "execution_count": 8,
   "metadata": {},
   "outputs": [],
   "source": [
    "import sqlite3\n",
    "# Connect to SQLite database\n",
    "conn = sqlite3.connect(\"../data/calendar.db\")\n",
    "cursor = conn.cursor()\n",
    "\n",
    "# Create bookings table\n",
    "\n",
    "cursor.execute(\"INSERT INTO booking (location, email, timestamp, donation_type, success, status) VALUES (?, ?, ?, ?, ?, ?)\", \n",
    "               (\"Martin\", \"mlukan@gmail.com\", datetime_to_unix_minutes(\"10.01.2025 09:30\"), \"whole_blood\", True, \"donated\"))\n",
    "\n",
    "\n",
    "conn.commit()\n",
    "conn.close()"
   ]
  },
  {
   "cell_type": "code",
   "execution_count": 10,
   "metadata": {},
   "outputs": [
    {
     "name": "stdout",
     "output_type": "stream",
     "text": [
      "(28941630, 'Martin', 1)\n"
     ]
    }
   ],
   "source": [
    "conn = sqlite3.connect(\"../data/calendar.db\")\n",
    "cursor = conn.cursor()\n",
    "query = '''\n",
    "SELECT timestamp, location, success\n",
    "FROM booking\n",
    "WHERE email = ? AND success = 1\n",
    "ORDER BY timestamp DESC\n",
    "LIMIT 1\n",
    "'''\n",
    "\n",
    "cursor.execute(query, (\"mlukan@gmail.com\",))\n",
    "last_booking = cursor.fetchone()\n",
    "print(last_booking)"
   ]
  }
 ],
 "metadata": {
  "kernelspec": {
   "display_name": ".venv",
   "language": "python",
   "name": "python3"
  },
  "language_info": {
   "codemirror_mode": {
    "name": "ipython",
    "version": 3
   },
   "file_extension": ".py",
   "mimetype": "text/x-python",
   "name": "python",
   "nbconvert_exporter": "python",
   "pygments_lexer": "ipython3",
   "version": "3.10.16"
  }
 },
 "nbformat": 4,
 "nbformat_minor": 2
}
